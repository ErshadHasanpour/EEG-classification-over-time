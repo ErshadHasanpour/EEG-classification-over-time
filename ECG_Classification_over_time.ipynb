{
  "nbformat": 4,
  "nbformat_minor": 0,
  "metadata": {
    "colab": {
      "provenance": []
    },
    "kernelspec": {
      "name": "python3",
      "display_name": "Python 3"
    },
    "language_info": {
      "name": "python"
    },
    "gpuClass": "standard"
  },
  "cells": [
    {
      "cell_type": "code",
      "execution_count": null,
      "metadata": {
        "id": "HODJR9jKQROh"
      },
      "outputs": [],
      "source": [
        "import scipy.io\n",
        "C1=scipy.io.loadmat('/content/drive/MyDrive/S2T2B1.mat')\n",
        "C2=scipy.io.loadmat('/content/drive/MyDrive/S2T2B2.mat')"
      ]
    },
    {
      "cell_type": "code",
      "source": [
        "sorted(C1.keys()),sorted(C2.keys())"
      ],
      "metadata": {
        "colab": {
          "base_uri": "https://localhost:8080/"
        },
        "id": "r8QslngUSTM3",
        "outputId": "813c0dc8-aaab-4b48-b37e-569fbc1279d8"
      },
      "execution_count": null,
      "outputs": [
        {
          "output_type": "execute_result",
          "data": {
            "text/plain": [
              "(['__globals__', '__header__', '__version__', 'a'],\n",
              " ['__globals__', '__header__', '__version__', 'a'])"
            ]
          },
          "metadata": {},
          "execution_count": 22
        }
      ]
    },
    {
      "cell_type": "code",
      "source": [
        "print(C1['a'].shape)\n",
        "print(C2['a'].shape)"
      ],
      "metadata": {
        "colab": {
          "base_uri": "https://localhost:8080/"
        },
        "id": "lyjC5N6NTnsN",
        "outputId": "0a26951b-e964-4726-8cd7-1d389d9b43bb"
      },
      "execution_count": null,
      "outputs": [
        {
          "output_type": "stream",
          "name": "stdout",
          "text": [
            "(45, 126, 3500)\n",
            "(45, 126, 3500)\n"
          ]
        }
      ]
    },
    {
      "cell_type": "code",
      "source": [
        "import numpy as np\n",
        "face=np.array(C1['a'])\n",
        "piano=np.array(C2['a'])\n",
        "all_data=np.concatenate((face,piano),axis=0)\n",
        "face_label=np.zeros((45))\n",
        "piano_label=np.ones((45))\n",
        "label=np.concatenate((face_label,piano_label),axis=-1)"
      ],
      "metadata": {
        "id": "DoWpSiujZU2a"
      },
      "execution_count": null,
      "outputs": []
    },
    {
      "cell_type": "code",
      "source": [
        "print(all_data.shape)\n",
        "print(label.shape)\n",
        "print(label)"
      ],
      "metadata": {
        "colab": {
          "base_uri": "https://localhost:8080/"
        },
        "id": "xt6OQyiLpaGo",
        "outputId": "c5578235-bcc1-40f3-ace8-3f85c63e8a09"
      },
      "execution_count": null,
      "outputs": [
        {
          "output_type": "stream",
          "name": "stdout",
          "text": [
            "(90, 126, 3500)\n",
            "(90,)\n",
            "[0. 0. 0. 0. 0. 0. 0. 0. 0. 0. 0. 0. 0. 0. 0. 0. 0. 0. 0. 0. 0. 0. 0. 0.\n",
            " 0. 0. 0. 0. 0. 0. 0. 0. 0. 0. 0. 0. 0. 0. 0. 0. 0. 0. 0. 0. 0. 1. 1. 1.\n",
            " 1. 1. 1. 1. 1. 1. 1. 1. 1. 1. 1. 1. 1. 1. 1. 1. 1. 1. 1. 1. 1. 1. 1. 1.\n",
            " 1. 1. 1. 1. 1. 1. 1. 1. 1. 1. 1. 1. 1. 1. 1. 1. 1. 1.]\n"
          ]
        }
      ]
    },
    {
      "cell_type": "code",
      "source": [
        "from scipy import stats\n",
        "def mean(x):\n",
        "  return np.mean(x, axis=-1)\n",
        "def std(x):\n",
        "  return np.std(x, axis=-1)\n",
        "def ptp(x):\n",
        "  return np.ptp(x, axis=-1)\n",
        "def var(x):\n",
        "  return np.var(x, axis=-1)\n",
        "def minim(x):\n",
        "  return np.min(x, axis=-1)\n",
        "def maxim(x):\n",
        "  return np.max(x, axis=-1)  \n",
        "def argminim(x):\n",
        "  return np.argmin(x, axis=-1)\n",
        "def argmaxim(x):\n",
        "  return np.argmax(x, axis=-1)\n",
        "def rms(x):\n",
        "  return np.sqrt(np.mean(x**2, axis=-1)) \n",
        "def abs_diff_signal(x):\n",
        "  return np.sum(np.abs(np.diff(x, axis=-1)),axis=-1)\n",
        "def skewness(x):\n",
        "  return stats.skew(x, axis=-1)\n",
        "def kurtosis(x):\n",
        "  return stats.kurtosis(x, axis=-1)\n",
        "def concatenate_features(x):\n",
        "  return np.concatenate((mean(x),std(x),ptp(x),var(x),minim(x),maxim(x),\n",
        "                         argminim(x),argmaxim(x),rms(x),abs_diff_signal(x),skewness(x),kurtosis(x)),axis=-1)  "
      ],
      "metadata": {
        "id": "WDoWZ1-1qnEV"
      },
      "execution_count": null,
      "outputs": []
    },
    {
      "cell_type": "code",
      "source": [
        "print(all_data.shape)\n",
        "features=[]\n",
        "  \n",
        "for i in range(100):\n",
        "  if (i != 99):\n",
        "    pack_data=all_data[:,:,35*i:35*i+40]\n",
        "  else:\n",
        "    pack_data=all_data[:,:,35*i:3500]\n",
        "  \n",
        "  for d in pack_data:\n",
        "    features.append(concatenate_features(d))\n",
        "\n",
        "\n"
      ],
      "metadata": {
        "colab": {
          "base_uri": "https://localhost:8080/"
        },
        "id": "bzb5Ao-B5yV5",
        "outputId": "344f1bc4-42f3-4d63-f5ac-6bdcdcb32624"
      },
      "execution_count": null,
      "outputs": [
        {
          "output_type": "stream",
          "name": "stdout",
          "text": [
            "(90, 126, 3500)\n"
          ]
        }
      ]
    },
    {
      "cell_type": "code",
      "source": [
        "features_array=np.array(features)\n",
        "features_array.shape"
      ],
      "metadata": {
        "colab": {
          "base_uri": "https://localhost:8080/"
        },
        "id": "a7PJLnAkwKx9",
        "outputId": "8f42f123-a6fa-4742-9df2-ae8495c70e3d"
      },
      "execution_count": null,
      "outputs": [
        {
          "output_type": "execute_result",
          "data": {
            "text/plain": [
              "(9000, 1512)"
            ]
          },
          "metadata": {},
          "execution_count": 31
        }
      ]
    },
    {
      "cell_type": "code",
      "source": [
        "# Classification \n",
        "import numpy as np\n",
        "import pandas as pd\n",
        "from sklearn.naive_bayes import GaussianNB\n",
        "from sklearn.metrics import classification_report, confusion_matrix, ConfusionMatrixDisplay, accuracy_score\n",
        "from tqdm.auto import tqdm\n",
        "import warnings\n",
        "from sklearn.svm import SVC\n",
        "from sklearn.neural_network import MLPClassifier\n",
        "import matplotlib.pyplot as plt\n",
        "from sklearn.decomposition import PCA\n",
        "from matplotlib.colors import ListedColormap\n",
        "import matplotlib.pyplot as plt\n",
        "from sklearn.model_selection import GridSearchCV\n",
        "from sklearn.multiclass import OneVsOneClassifier, OneVsRestClassifier\n",
        "from sklearn.neighbors import KNeighborsClassifier\n",
        "from sklearn.model_selection import train_test_split\n",
        "import pickle\n",
        "from sklearn.preprocessing import StandardScaler\n",
        "from sklearn.model_selection import learning_curve\n",
        "warnings.filterwarnings(\"ignore\")\n",
        "clf=KNeighborsClassifier(3)\n",
        "target_names1 = [\"face\", \"piano\"]\n",
        "clf=KNeighborsClassifier(3)\n",
        "\n",
        "for i in range(100):\n",
        "   X_train, X_test, y_train, y_test = train_test_split(features_array[i*90:(i+1)*90,:], label ,\n",
        "                                                       test_size=0.20, random_state=None)\n",
        "   scaler = StandardScaler()\n",
        "   X_train = scaler.fit_transform(X_train)\n",
        "   X_test = scaler.transform(X_test)\n",
        "   y_pred = clf.fit(X_train, y_train).predict(X_test)\n",
        "   acc.append(accuracy_score(y_test,y_pred))\n",
        "\n",
        "print(np.array(acc).shape)"
      ],
      "metadata": {
        "colab": {
          "base_uri": "https://localhost:8080/"
        },
        "id": "Q1977UcLDZln",
        "outputId": "308971be-da67-4dc9-d01d-b7b4a71f23df"
      },
      "execution_count": null,
      "outputs": [
        {
          "output_type": "stream",
          "name": "stdout",
          "text": [
            "(15000,)\n"
          ]
        }
      ]
    },
    {
      "cell_type": "code",
      "source": [
        "acc_array=np.array(acc)\n",
        "acc_mat=np.zeros((150,100))\n",
        "for i in range(150):\n",
        "  acc_mat[i,:]=acc_array[i*100:(i+1)*100]\n"
      ],
      "metadata": {
        "id": "NBxhcws7NYmD"
      },
      "execution_count": null,
      "outputs": []
    },
    {
      "cell_type": "code",
      "source": [
        "mean_acc=np.mean(acc_mat,axis=0)\n",
        "mean_acc.shape"
      ],
      "metadata": {
        "colab": {
          "base_uri": "https://localhost:8080/"
        },
        "id": "WCpD7kGiPW04",
        "outputId": "446efad9-c158-4aed-dc83-070c7da900a9"
      },
      "execution_count": null,
      "outputs": [
        {
          "output_type": "execute_result",
          "data": {
            "text/plain": [
              "(100,)"
            ]
          },
          "metadata": {},
          "execution_count": 234
        }
      ]
    },
    {
      "cell_type": "code",
      "source": [
        "x=list(range(0,100))\n",
        "x_array=35*np.array(x)+20\n",
        "x_array"
      ],
      "metadata": {
        "colab": {
          "base_uri": "https://localhost:8080/"
        },
        "id": "VT7NWQmyOKci",
        "outputId": "1da5ac7a-9906-4525-bc5c-a03225394b6c"
      },
      "execution_count": null,
      "outputs": [
        {
          "output_type": "execute_result",
          "data": {
            "text/plain": [
              "array([  20,   55,   90,  125,  160,  195,  230,  265,  300,  335,  370,\n",
              "        405,  440,  475,  510,  545,  580,  615,  650,  685,  720,  755,\n",
              "        790,  825,  860,  895,  930,  965, 1000, 1035, 1070, 1105, 1140,\n",
              "       1175, 1210, 1245, 1280, 1315, 1350, 1385, 1420, 1455, 1490, 1525,\n",
              "       1560, 1595, 1630, 1665, 1700, 1735, 1770, 1805, 1840, 1875, 1910,\n",
              "       1945, 1980, 2015, 2050, 2085, 2120, 2155, 2190, 2225, 2260, 2295,\n",
              "       2330, 2365, 2400, 2435, 2470, 2505, 2540, 2575, 2610, 2645, 2680,\n",
              "       2715, 2750, 2785, 2820, 2855, 2890, 2925, 2960, 2995, 3030, 3065,\n",
              "       3100, 3135, 3170, 3205, 3240, 3275, 3310, 3345, 3380, 3415, 3450,\n",
              "       3485])"
            ]
          },
          "metadata": {},
          "execution_count": 261
        }
      ]
    },
    {
      "cell_type": "code",
      "source": [
        "plt.bar(x_array,mean_acc,width=15)\n",
        "plt.title('bar chart')\n",
        "plt.xlabel('Time') \n",
        "plt.ylabel('Accuracy')"
      ],
      "metadata": {
        "colab": {
          "base_uri": "https://localhost:8080/",
          "height": 312
        },
        "id": "BxZx2l6ILa-D",
        "outputId": "9607785e-5566-4721-d216-a736f1f2c414"
      },
      "execution_count": null,
      "outputs": [
        {
          "output_type": "execute_result",
          "data": {
            "text/plain": [
              "Text(0, 0.5, 'Accuracy')"
            ]
          },
          "metadata": {},
          "execution_count": 270
        },
        {
          "output_type": "display_data",
          "data": {
            "text/plain": [
              "<Figure size 432x288 with 1 Axes>"
            ],
            "image/png": "[encoded data removed]"
          },
          "metadata": {
            "needs_background": "light"
          }
        }
      ]
    },
    {
      "cell_type": "code",
      "source": [
        "plt.plot(x_array,mean_acc)\n",
        "plt.xlabel('Time') \n",
        "plt.ylabel('Accuracy')"
      ],
      "metadata": {
        "colab": {
          "base_uri": "https://localhost:8080/",
          "height": 282
        },
        "id": "jKHBlRHQdDcU",
        "outputId": "1872c104-7c60-450b-a220-7d9ecbf33d09"
      },
      "execution_count": null,
      "outputs": [
        {
          "output_type": "execute_result",
          "data": {
            "text/plain": [
              "[<matplotlib.lines.Line2D at 0x7fdb482d2710>]"
            ]
          },
          "metadata": {},
          "execution_count": 253
        },
        {
          "output_type": "display_data",
          "data": {
            "text/plain": [
              "<Figure size 432x288 with 1 Axes>"
            ],
            "image/png": "[encoded data removed]"
          },
          "metadata": {
            "needs_background": "light"
          }
        }
      ]
    },
    {
      "cell_type": "code",
      "source": [
        "print('maximum accuracy is: ' , np.max(mean_acc))\n",
        "print('maximum accuracy ocuurs between samples: ', [np.argmax(mean_acc)*35,np.argmax(mean_acc)*35+40])\n",
        "print('maximum accuracy ocuurs between times: ', [(np.argmax(mean_acc)*35)/500,(np.argmax(mean_acc)*35+40)/500])\n"
      ],
      "metadata": {
        "colab": {
          "base_uri": "https://localhost:8080/"
        },
        "id": "kmM5ORLSQ-Kh",
        "outputId": "bcefeb1c-37d5-4779-d5c2-eb317e1d00e4"
      },
      "execution_count": null,
      "outputs": [
        {
          "output_type": "stream",
          "name": "stdout",
          "text": [
            "maximum accuracy is:  0.8766666666666652\n",
            "maximum accuracy ocuurs between samples:  [3080, 3120]\n",
            "maximum accuracy ocuurs between times:  [6.16, 6.24]\n"
          ]
        }
      ]
    }
  ]
}